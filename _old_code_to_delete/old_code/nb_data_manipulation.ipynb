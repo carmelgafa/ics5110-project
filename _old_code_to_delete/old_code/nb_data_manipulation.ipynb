{
 "cells": [
  {
   "cell_type": "code",
   "execution_count": 33,
   "metadata": {},
   "outputs": [],
   "source": [
    "# imports\n",
    "import os\n",
    "import pandas as pd\n",
    "from sklearn.preprocessing import OneHotEncoder\n",
    "from utils import ProjectFolders\n",
    "from utils import get_info"
   ]
  },
  {
   "cell_type": "code",
   "execution_count": 34,
   "metadata": {},
   "outputs": [],
   "source": [
    "\n",
    "folders = ProjectFolders()\n",
    "\n",
    "FILE_URL ='https://raw.githubusercontent.com/propublica/compas-analysis/refs/heads/master/compas-scores-two-years.csv'\n",
    "FILE_NAME = 'compas-scores-two-years.csv'\n",
    "\n",
    "if not os.path.exists(folders.DATA_FOLDER):\n",
    "    os.makedirs(folders.ATA_FOLDER)\n",
    "\n",
    "if not os.path.exists(os.path.join(folders.DATA_FOLDER, FILE_NAME)):\n",
    "    import urllib.request\n",
    "    urllib.request.urlretrieve(FILE_URL, os.path.join(folders.DATA_FOLDER, FILE_NAME))\n",
    "\n",
    "data_file_path = os.path.join(folders.DATA_FOLDER, 'compas-scores-two-years.csv')\n",
    "df = pd.read_csv(data_file_path)\n",
    "\n"
   ]
  },
  {
   "cell_type": "code",
   "execution_count": 35,
   "metadata": {},
   "outputs": [],
   "source": [
    "df_reduced = df[['sex', 'two_year_recid', 'decile_score', 'priors_count', 'age_cat', 'race', 'c_charge_degree', 'juv_fel_count', 'juv_misd_count', 'juv_other_count']]\n",
    "\n"
   ]
  },
  {
   "cell_type": "code",
   "execution_count": 38,
   "metadata": {},
   "outputs": [
    {
     "name": "stderr",
     "output_type": "stream",
     "text": [
      "C:\\Users\\carme\\AppData\\Local\\Temp\\ipykernel_37060\\2919394550.py:26: FutureWarning: Setting an item of incompatible dtype is deprecated and will raise in a future error of pandas. Value '[-0.71123977 -0.71123977  0.10806302 ... -0.71123977 -0.09676268\n",
      " -0.30158838]' has dtype incompatible with int64, please explicitly cast to a compatible dtype first.\n",
      "  df_final.loc[:, column] = scaler.fit_transform(df_final[[column]])\n",
      "C:\\Users\\carme\\AppData\\Local\\Temp\\ipykernel_37060\\2919394550.py:26: FutureWarning: Setting an item of incompatible dtype is deprecated and will raise in a future error of pandas. Value '[-0.14185461 -0.14185461 -0.14185461 ... -0.14185461 -0.14185461\n",
      " -0.14185461]' has dtype incompatible with int64, please explicitly cast to a compatible dtype first.\n",
      "  df_final.loc[:, column] = scaler.fit_transform(df_final[[column]])\n",
      "C:\\Users\\carme\\AppData\\Local\\Temp\\ipykernel_37060\\2919394550.py:26: FutureWarning: Setting an item of incompatible dtype is deprecated and will raise in a future error of pandas. Value '[-0.18741422 -0.18741422 -0.18741422 ... -0.18741422 -0.18741422\n",
      " -0.18741422]' has dtype incompatible with int64, please explicitly cast to a compatible dtype first.\n",
      "  df_final.loc[:, column] = scaler.fit_transform(df_final[[column]])\n",
      "C:\\Users\\carme\\AppData\\Local\\Temp\\ipykernel_37060\\2919394550.py:26: FutureWarning: Setting an item of incompatible dtype is deprecated and will raise in a future error of pandas. Value '[-0.21806488 -0.21806488  1.77575015 ... -0.21806488 -0.21806488\n",
      " -0.21806488]' has dtype incompatible with int64, please explicitly cast to a compatible dtype first.\n",
      "  df_final.loc[:, column] = scaler.fit_transform(df_final[[column]])\n"
     ]
    }
   ],
   "source": [
    "from sklearn.preprocessing import StandardScaler\n",
    "\n",
    "scaler = StandardScaler()\n",
    "# X_train_scaled = scaler.fit_transform(df_reduced[['decile_score', 'priors_count', 'juv_fel_count', 'juv_misd_count', 'juv_other_count']])\n",
    "\n",
    "# Copy the original dataset\n",
    "df_encoded = df_reduced.copy()\n",
    "\n",
    "# onehot encoding of sex, race, c_charge_degree, age_cat\n",
    "ohe_features = ['sex', 'race', 'c_charge_degree', 'age_cat']\n",
    "ohe = OneHotEncoder()\n",
    "df_ohe = pd.DataFrame(ohe.fit_transform(df_encoded[ohe_features]).toarray(), columns=ohe.get_feature_names_out(ohe_features))\n",
    "df_encoded = pd.concat([df_encoded, df_ohe], axis=1)\n",
    "\n",
    "\n",
    "# final dataset that will serve as starting place for all models\n",
    "df_final = df_encoded[['two_year_recid', 'decile_score', 'priors_count', 'juv_fel_count', 'juv_misd_count', 'juv_other_count', 'sex_Female', 'sex_Male', 'race_African-American','race_Asian','race_Caucasian','race_Hispanic','race_Native American','race_Other'\n",
    "                      ,'c_charge_degree_M','c_charge_degree_F','age_cat_Greater than 45','age_cat_Less than 25']]\n",
    "\n",
    "\n",
    "columns_to_scale = ['priors_count', 'juv_fel_count', 'juv_misd_count', 'juv_other_count']\n",
    "\n",
    "\n",
    "for column in columns_to_scale:\n",
    "    df_final.loc[:, column] = df_final.loc[:, column].astype(float)\n",
    "    df_final.loc[:, column] = scaler.fit_transform(df_final[[column]])\n",
    "\n",
    "\n",
    "df_final.to_csv(folders.FINAL_DATASET_FILE, index=False)\n"
   ]
  }
 ],
 "metadata": {
  "kernelspec": {
   "display_name": ".venv",
   "language": "python",
   "name": "python3"
  },
  "language_info": {
   "codemirror_mode": {
    "name": "ipython",
    "version": 3
   },
   "file_extension": ".py",
   "mimetype": "text/x-python",
   "name": "python",
   "nbconvert_exporter": "python",
   "pygments_lexer": "ipython3",
   "version": "3.12.5"
  }
 },
 "nbformat": 4,
 "nbformat_minor": 2
}
