{
 "cells": [
  {
   "cell_type": "code",
   "execution_count": 4,
   "metadata": {},
   "outputs": [],
   "source": [
    "# imports\n",
    "\n",
    "import torch\n",
    "import pandas as pd\n",
    "import matplotlib.pyplot as plt\n",
    "\n",
    "from utils import ProjectFolders"
   ]
  },
  {
   "cell_type": "code",
   "execution_count": 5,
   "metadata": {},
   "outputs": [],
   "source": [
    "import pandas as pd\n",
    "import torch\n",
    "from sklearn.model_selection import train_test_split\n",
    "\n",
    "# Load the dataset\n",
    "df_final = pd.read_csv(ProjectFolders.FINAL_DATASET_FILE)\n",
    "\n",
    "# Define labels and features\n",
    "DECILE_LABEL = 'decile_score'\n",
    "TWO_YEAR_REC_LABEL = 'two_year_recid'\n",
    "\n",
    "# Scale the decile score to [0, 1] and extract labels and features\n",
    "y = df_final[DECILE_LABEL].values\n",
    "y_two_year_recid = df_final[TWO_YEAR_REC_LABEL].values  # Binary label\n",
    "X = df_final.drop(columns=[DECILE_LABEL, TWO_YEAR_REC_LABEL]).values  # Features\n",
    "\n",
    "# First, split into train+validation and test datasets\n",
    "X_train_val, X_test, y_train_val, y_test, y_two_year_recid_train_val, y_two_year_recid_test = train_test_split(\n",
    "    X, y, y_two_year_recid, test_size=0.2, random_state=42\n",
    ")\n",
    "\n",
    "# Then, split train+validation into train and validation datasets\n",
    "X_train, X_val, y_train, y_val, y_two_year_recid_train, y_two_year_recid_val = train_test_split(\n",
    "    X_train_val, y_train_val, y_two_year_recid_train_val, test_size=0.25, random_state=42\n",
    ")\n",
    "# # Note: 0.25 of the train+validation set = 0.2 of the total dataset, resulting in 60/20/20 split\n",
    "# # Convert datasets to PyTorch tensors\n",
    "# X_train_tensor = torch.tensor(X_train, dtype=torch.float32)\n",
    "# y_train_tensor = torch.tensor(y_train, dtype=torch.float32)\n",
    "# X_val_tensor = torch.tensor(X_val, dtype=torch.float32)\n",
    "# y_val_tensor = torch.tensor(y_val, dtype=torch.float32)\n",
    "# X_test_tensor = torch.tensor(X_test, dtype=torch.float32)\n",
    "# y_test_tensor = torch.tensor(y_test, dtype=torch.float32)\n",
    "\n",
    "# # Convert the binary labels (two_year_recid) to tensors\n",
    "# y_two_year_recid_train_tensor = torch.tensor(y_two_year_recid_train, dtype=torch.float32)\n",
    "# y_two_year_recid_val_tensor = torch.tensor(y_two_year_recid_val, dtype=torch.float32)\n",
    "# y_two_year_recid_test_tensor = torch.tensor(y_two_year_recid_test, dtype=torch.float32)\n",
    "\n",
    "# # Print dataset sizes for verification\n",
    "# print(f\"Train set: {X_train_tensor.shape}, {y_train_tensor.shape}\")\n",
    "# print(f\"Validation set: {X_val_tensor.shape}, {y_val_tensor.shape}\")\n",
    "# print(f\"Test set: {X_test_tensor.shape}, {y_test_tensor.shape}\")\n"
   ]
  },
  {
   "cell_type": "code",
   "execution_count": 6,
   "metadata": {},
   "outputs": [
    {
     "name": "stdout",
     "output_type": "stream",
     "text": [
      "TN: 1795\n",
      "FP: 540\n",
      "FN: 941\n",
      "TP: 1052\n",
      "Senstivity: 0.5278474661314602\n",
      "Specificity: 0.7687366167023555\n",
      "Precision: 0.6608040201005025\n",
      "Accuracy: 0.6578096118299446\n"
     ]
    }
   ],
   "source": [
    "from utils import compare_score\n",
    "\n",
    "\n",
    "compare_score(y_train_tensor, y_two_year_recid_train_tensor)\n",
    "\n",
    "\n"
   ]
  },
  {
   "cell_type": "code",
   "execution_count": 9,
   "metadata": {},
   "outputs": [
    {
     "name": "stdout",
     "output_type": "stream",
     "text": [
      "Mean Squared Error (MSE): 5.3094802494802495\n",
      "R-squared (R2): 0.3769249115066393\n",
      "Best k: 19\n",
      "Best cross-validated MSE: 4.883754652782956\n"
     ]
    }
   ],
   "source": [
    "from sklearn.model_selection import train_test_split\n",
    "from sklearn.neighbors import KNeighborsRegressor\n",
    "from sklearn.metrics import mean_squared_error, r2_score\n",
    "\n",
    "\n",
    "\n",
    "# Initialize KNN Regressor\n",
    "k = 10 # Choose the number of neighbors\n",
    "knn = KNeighborsRegressor(n_neighbors=k)\n",
    "\n",
    "# Train the model\n",
    "knn.fit(X_train, y_train)\n",
    "\n",
    "# Make predictions\n",
    "y_pred = knn.predict(X_test)\n",
    "\n",
    "# Evaluate the model\n",
    "mse = mean_squared_error(y_test, y_pred)\n",
    "r2 = r2_score(y_test, y_pred)\n",
    "print(\"Mean Squared Error (MSE):\", mse)\n",
    "print(\"R-squared (R2):\", r2)\n",
    "\n",
    "\n",
    "from sklearn.model_selection import GridSearchCV\n",
    "\n",
    "param_grid = {'n_neighbors': range(1, 21)}\n",
    "grid_search = GridSearchCV(KNeighborsRegressor(), param_grid, cv=5, scoring='neg_mean_squared_error')\n",
    "grid_search.fit(X_train, y_train)\n",
    "\n",
    "print(\"Best k:\", grid_search.best_params_['n_neighbors'])\n",
    "print(\"Best cross-validated MSE:\", -grid_search.best_score_)\n",
    "\n"
   ]
  },
  {
   "cell_type": "code",
   "execution_count": 11,
   "metadata": {},
   "outputs": [
    {
     "name": "stdout",
     "output_type": "stream",
     "text": [
      "Mean Squared Error (MSE): 5.103915162245261\n",
      "R-squared (R2): 0.4010482680126972\n"
     ]
    }
   ],
   "source": [
    "from sklearn.tree import DecisionTreeRegressor\n",
    "from sklearn.metrics import mean_squared_error, r2_score\n",
    "\n",
    "\n",
    "\n",
    "# Initialize and train the decision tree regressor\n",
    "tree_reg = DecisionTreeRegressor(max_depth=5, random_state=42)\n",
    "tree_reg.fit(X_train, y_train)\n",
    "\n",
    "# Make predictions\n",
    "y_pred = tree_reg.predict(X_test)\n",
    "\n",
    "# Evaluate the model\n",
    "mse = mean_squared_error(y_test, y_pred)\n",
    "r2 = r2_score(y_test, y_pred)\n",
    "print(\"Mean Squared Error (MSE):\", mse)\n",
    "print(\"R-squared (R2):\", r2)"
   ]
  },
  {
   "cell_type": "code",
   "execution_count": 15,
   "metadata": {},
   "outputs": [
    {
     "name": "stdout",
     "output_type": "stream",
     "text": [
      "Accuracy: 0.2591822591822592\n",
      "Classification Report:\n",
      "               precision    recall  f1-score   support\n",
      "\n",
      "           1       0.42      0.85      0.57       291\n",
      "           2       0.15      0.16      0.16       197\n",
      "           3       0.17      0.02      0.03       167\n",
      "           4       0.11      0.19      0.14       119\n",
      "           5       0.00      0.00      0.00       145\n",
      "           6       0.15      0.24      0.18       125\n",
      "           7       0.15      0.19      0.17       106\n",
      "           8       0.15      0.07      0.09        91\n",
      "           9       0.17      0.02      0.03       111\n",
      "          10       0.26      0.12      0.17        91\n",
      "\n",
      "    accuracy                           0.26      1443\n",
      "   macro avg       0.17      0.19      0.15      1443\n",
      "weighted avg       0.20      0.26      0.20      1443\n",
      "\n"
     ]
    },
    {
     "name": "stderr",
     "output_type": "stream",
     "text": [
      "f:\\work\\masters-ai\\ics5510-project\\.venv\\Lib\\site-packages\\sklearn\\metrics\\_classification.py:1565: UndefinedMetricWarning: Precision is ill-defined and being set to 0.0 in labels with no predicted samples. Use `zero_division` parameter to control this behavior.\n",
      "  _warn_prf(average, modifier, f\"{metric.capitalize()} is\", len(result))\n",
      "f:\\work\\masters-ai\\ics5510-project\\.venv\\Lib\\site-packages\\sklearn\\metrics\\_classification.py:1565: UndefinedMetricWarning: Precision is ill-defined and being set to 0.0 in labels with no predicted samples. Use `zero_division` parameter to control this behavior.\n",
      "  _warn_prf(average, modifier, f\"{metric.capitalize()} is\", len(result))\n",
      "f:\\work\\masters-ai\\ics5510-project\\.venv\\Lib\\site-packages\\sklearn\\metrics\\_classification.py:1565: UndefinedMetricWarning: Precision is ill-defined and being set to 0.0 in labels with no predicted samples. Use `zero_division` parameter to control this behavior.\n",
      "  _warn_prf(average, modifier, f\"{metric.capitalize()} is\", len(result))\n"
     ]
    },
    {
     "name": "stdout",
     "output_type": "stream",
     "text": [
      "Best Parameters: {'max_depth': 5, 'min_samples_leaf': 5, 'min_samples_split': 2}\n"
     ]
    }
   ],
   "source": [
    "from sklearn.tree import DecisionTreeClassifier\n",
    "from sklearn.metrics import accuracy_score, classification_report\n",
    "\n",
    "\n",
    "\n",
    "# Initialize and train the decision tree classifier\n",
    "tree_clf = DecisionTreeClassifier(max_depth=5, random_state=42)\n",
    "tree_clf.fit(X_train, y_train)\n",
    "\n",
    "# Make predictions\n",
    "y_pred = tree_clf.predict(X_test)\n",
    "\n",
    "# Evaluate the model\n",
    "print(\"Accuracy:\", accuracy_score(y_test, y_pred))\n",
    "print(\"Classification Report:\\n\", classification_report(y_test, y_pred))\n",
    "\n",
    "\n",
    "from sklearn.model_selection import GridSearchCV\n",
    "\n",
    "param_grid = {\n",
    "    'max_depth': [3, 5, 10],\n",
    "    'min_samples_split': [2, 5, 10],\n",
    "    'min_samples_leaf': [1, 2, 5]\n",
    "}\n",
    "grid_search = GridSearchCV(DecisionTreeClassifier(random_state=42), param_grid, cv=5, scoring=\"accuracy\")\n",
    "grid_search.fit(X_train, y_train)\n",
    "print(\"Best Parameters:\", grid_search.best_params_)\n"
   ]
  }
 ],
 "metadata": {
  "kernelspec": {
   "display_name": ".venv",
   "language": "python",
   "name": "python3"
  },
  "language_info": {
   "codemirror_mode": {
    "name": "ipython",
    "version": 3
   },
   "file_extension": ".py",
   "mimetype": "text/x-python",
   "name": "python",
   "nbconvert_exporter": "python",
   "pygments_lexer": "ipython3",
   "version": "3.12.5"
  }
 },
 "nbformat": 4,
 "nbformat_minor": 2
}
