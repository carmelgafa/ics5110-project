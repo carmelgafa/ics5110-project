{
 "cells": [
  {
   "cell_type": "code",
   "execution_count": 94,
   "metadata": {},
   "outputs": [],
   "source": [
    "# imports\n",
    "\n",
    "import os\n",
    "import pandas as pd\n",
    "import matplotlib.pyplot as plt\n",
    "import seaborn as sns\n",
    "from sklearn.impute import KNNImputer\n",
    "\n",
    "from report_writer import ReportWriter\n",
    "from utils import get_info"
   ]
  },
  {
   "cell_type": "code",
   "execution_count": 95,
   "metadata": {},
   "outputs": [
    {
     "name": "stdout",
     "output_type": "stream",
     "text": [
      "Shape of dataset: (7214, 53)\n"
     ]
    }
   ],
   "source": [
    "\n",
    "RESULTS_FOLDER = \"../results\"\n",
    "DATA_FOLDER = \"../data\"\n",
    "TEMP_FOLDER = \"../tmp\"\n",
    "\n",
    "FILE_URL ='https://raw.githubusercontent.com/propublica/compas-analysis/refs/heads/master/compas-scores-two-years.csv'\n",
    "FILE_NAME = 'compas-scores-two-years.csv'\n",
    "\n",
    "# file is small, i will not chunk\n",
    "\n",
    "if not os.path.exists(DATA_FOLDER):\n",
    "    os.makedirs(DATA_FOLDER)\n",
    "\n",
    "if not os.path.exists(os.path.join(DATA_FOLDER, FILE_NAME)):\n",
    "    import urllib.request\n",
    "    urllib.request.urlretrieve(FILE_URL, os.path.join(DATA_FOLDER, FILE_NAME))\n",
    "\n",
    "data_file_path = os.path.join(DATA_FOLDER, 'compas-scores-two-years.csv')\n",
    "df = pd.read_csv(data_file_path)\n",
    "print(f'Shape of dataset: {df.shape}')"
   ]
  },
  {
   "cell_type": "code",
   "execution_count": 96,
   "metadata": {},
   "outputs": [
    {
     "name": "stdout",
     "output_type": "stream",
     "text": [
      "<class 'pandas.core.frame.DataFrame'>\n",
      "RangeIndex: 7214 entries, 0 to 7213\n",
      "Data columns (total 53 columns):\n",
      " #   Column                   Non-Null Count  Dtype  \n",
      "---  ------                   --------------  -----  \n",
      " 0   id                       7214 non-null   int64  \n",
      " 1   name                     7214 non-null   object \n",
      " 2   first                    7214 non-null   object \n",
      " 3   last                     7214 non-null   object \n",
      " 4   compas_screening_date    7214 non-null   object \n",
      " 5   sex                      7214 non-null   object \n",
      " 6   dob                      7214 non-null   object \n",
      " 7   age                      7214 non-null   int64  \n",
      " 8   age_cat                  7214 non-null   object \n",
      " 9   race                     7214 non-null   object \n",
      " 10  juv_fel_count            7214 non-null   int64  \n",
      " 11  decile_score             7214 non-null   int64  \n",
      " 12  juv_misd_count           7214 non-null   int64  \n",
      " 13  juv_other_count          7214 non-null   int64  \n",
      " 14  priors_count             7214 non-null   int64  \n",
      " 15  days_b_screening_arrest  6907 non-null   float64\n",
      " 16  c_jail_in                6907 non-null   object \n",
      " 17  c_jail_out               6907 non-null   object \n",
      " 18  c_case_number            7192 non-null   object \n",
      " 19  c_offense_date           6055 non-null   object \n",
      " 20  c_arrest_date            1137 non-null   object \n",
      " 21  c_days_from_compas       7192 non-null   float64\n",
      " 22  c_charge_degree          7214 non-null   object \n",
      " 23  c_charge_desc            7185 non-null   object \n",
      " 24  is_recid                 7214 non-null   int64  \n",
      " 25  r_case_number            3471 non-null   object \n",
      " 26  r_charge_degree          3471 non-null   object \n",
      " 27  r_days_from_arrest       2316 non-null   float64\n",
      " 28  r_offense_date           3471 non-null   object \n",
      " 29  r_charge_desc            3413 non-null   object \n",
      " 30  r_jail_in                2316 non-null   object \n",
      " 31  r_jail_out               2316 non-null   object \n",
      " 32  violent_recid            0 non-null      float64\n",
      " 33  is_violent_recid         7214 non-null   int64  \n",
      " 34  vr_case_number           819 non-null    object \n",
      " 35  vr_charge_degree         819 non-null    object \n",
      " 36  vr_offense_date          819 non-null    object \n",
      " 37  vr_charge_desc           819 non-null    object \n",
      " 38  type_of_assessment       7214 non-null   object \n",
      " 39  decile_score.1           7214 non-null   int64  \n",
      " 40  score_text               7214 non-null   object \n",
      " 41  screening_date           7214 non-null   object \n",
      " 42  v_type_of_assessment     7214 non-null   object \n",
      " 43  v_decile_score           7214 non-null   int64  \n",
      " 44  v_score_text             7214 non-null   object \n",
      " 45  v_screening_date         7214 non-null   object \n",
      " 46  in_custody               6978 non-null   object \n",
      " 47  out_custody              6978 non-null   object \n",
      " 48  priors_count.1           7214 non-null   int64  \n",
      " 49  start                    7214 non-null   int64  \n",
      " 50  end                      7214 non-null   int64  \n",
      " 51  event                    7214 non-null   int64  \n",
      " 52  two_year_recid           7214 non-null   int64  \n",
      "dtypes: float64(4), int64(16), object(33)\n",
      "memory usage: 2.9+ MB\n",
      "None\n"
     ]
    }
   ],
   "source": [
    "print(df.info())"
   ]
  },
  {
   "cell_type": "code",
   "execution_count": 97,
   "metadata": {},
   "outputs": [],
   "source": [
    "df_reduced = df[[\"sex\", \"two_year_recid\", \"priors_count\", \"decile_score\", \"age_cat\", \"race\", \"c_charge_degree\"]]\n",
    "\n",
    "\n",
    "\n"
   ]
  },
  {
   "cell_type": "code",
   "execution_count": 98,
   "metadata": {},
   "outputs": [],
   "source": [
    "from sklearn.preprocessing import OneHotEncoder, OrdinalEncoder\n",
    "\n",
    "# Copy the original dataset\n",
    "df_encoded = df_reduced.copy()\n",
    "\n",
    "# onehot encoding\n",
    "ohe_features = ['sex', 'race', 'c_charge_degree', 'age_cat']\n",
    "\n",
    "ohe = OneHotEncoder()\n",
    "df_ohe = pd.DataFrame(ohe.fit_transform(df_encoded[ohe_features]).toarray(), columns=ohe.get_feature_names_out(ohe_features))\n",
    "df_encoded = pd.concat([df_encoded, df_ohe], axis=1)\n",
    "\n",
    "# ordinal encoding\n",
    "# oe_features = ['age_cat', 'score_text']\n",
    "# age_cat_order = ['Less than 25', '25 - 45', 'Greater than 45']\n",
    "# score_text_order = ['Low', 'Medium', 'High']\n",
    "\n",
    "# ordinal_encoder = OrdinalEncoder(categories=[age_cat_order, score_text_order])\n",
    "# df_encoded[['age_cat_encoded', 'score_text_encoded']] = ordinal_encoder.fit_transform(\n",
    "#     df_encoded[['age_cat', 'score_text']]\n",
    "# )\n",
    "\n",
    "df_final = df_encoded[['two_year_recid','priors_count','sex_Female','race_African-American','race_Asian','race_Caucasian','race_Hispanic','race_Native American','race_Other'\n",
    "                      ,'c_charge_degree_M','age_cat_Greater than 45','age_cat_Less than 25']]\n",
    "\n",
    "\n",
    "#,'decile_score'\n",
    "\n",
    "final_file_path = os.path.join(DATA_FOLDER, 'final_dataset.csv')\n",
    "df_final.to_csv(final_file_path, index=False)"
   ]
  },
  {
   "cell_type": "code",
   "execution_count": 99,
   "metadata": {},
   "outputs": [],
   "source": [
    "LABEL = 'two_year_recid'\n",
    "\n",
    "X = df_final.drop(columns=LABEL)\n",
    "y = df_final[LABEL]"
   ]
  },
  {
   "cell_type": "code",
   "execution_count": 100,
   "metadata": {},
   "outputs": [
    {
     "name": "stdout",
     "output_type": "stream",
     "text": [
      "Train shape: (5410, 11), train type: <class 'pandas.core.frame.DataFrame'>\n",
      "Validation shape: (1804, 11), validation type: <class 'pandas.core.frame.DataFrame'>\n",
      "Train target shape: (5410,) train target type: <class 'pandas.core.series.Series'>\n",
      "Validation target shape: (1804,) validation target type: <class 'pandas.core.series.Series'>\n"
     ]
    }
   ],
   "source": [
    "from sklearn.model_selection import train_test_split\n",
    "import lightgbm as lgb\n",
    "\n",
    "\n",
    "#Create train and validation set\n",
    "train_x, valid_x, train_y, valid_y = train_test_split(X, y, test_size=0.25, shuffle=True, stratify=y, random_state=42)\n",
    "\n",
    "print(f\"Train shape: {train_x.shape}, train type: {type(train_x)}\")\n",
    "print(f\"Validation shape: {valid_x.shape}, validation type: {type(valid_x)}\")\n",
    "print(f\"Train target shape: {train_y.shape} train target type: {type(train_y)}\")\n",
    "print(f\"Validation target shape: {valid_y.shape} validation target type: {type(valid_y)}\")\n",
    "\n",
    "\n",
    "\n",
    "## ----------Dataset for  LightGBM Model  -----------------------\n",
    "train_data=lgb.Dataset(train_x,label=train_y)\n",
    "valid_data=lgb.Dataset(valid_x,label=valid_y)"
   ]
  },
  {
   "cell_type": "code",
   "execution_count": 101,
   "metadata": {},
   "outputs": [
    {
     "name": "stdout",
     "output_type": "stream",
     "text": [
      "[LightGBM] [Warning] Found whitespace in feature_names, replace with underlines\n",
      "[LightGBM] [Info] Auto-choosing row-wise multi-threading, the overhead of testing was 0.000141 seconds.\n",
      "You can set `force_row_wise=true` to remove the overhead.\n",
      "And if memory is not enough, you can set `force_col_wise=true`.\n",
      "[LightGBM] [Info] Total Bins 54\n",
      "[LightGBM] [Info] Number of data points in the train set: 5410, number of used features: 11\n",
      "[LightGBM] [Warning] Found whitespace in feature_names, replace with underlines\n",
      "[LightGBM] [Info] Start training from score 0.450647\n"
     ]
    }
   ],
   "source": [
    "params = {'metric' : 'auc',\n",
    "          'boosting_type' : 'gbdt',\n",
    "          'colsample_bytree' : 0.92,\n",
    "#           'max_depth' : -1,\n",
    "#           'n_estimators' : 200,\n",
    "          'min_child_samples': 4, \n",
    "#           'min_child_weight': 0.1,\n",
    "          'subsample': 0.85,\n",
    "#           'verbose' : -1,\n",
    "          'num_threads' : 4\n",
    "}\n",
    "\n",
    "lgbm = lgb.train(params,\n",
    "                 train_data,\n",
    "#                  2500,\n",
    "                 valid_sets=valid_data,\n",
    "                 num_boost_round =15,\n",
    "                 )"
   ]
  },
  {
   "cell_type": "code",
   "execution_count": 102,
   "metadata": {},
   "outputs": [
    {
     "name": "stdout",
     "output_type": "stream",
     "text": [
      "Overall AUC on validation (not test!): 0.712\n"
     ]
    }
   ],
   "source": [
    "from sklearn.metrics import accuracy_score, roc_auc_score, confusion_matrix\n",
    "\n",
    "\n",
    "y_pred = lgbm.predict(valid_x)\n",
    "score = roc_auc_score(valid_y, y_pred)\n",
    "print(\"Overall AUC on validation (not test!): {:.3f}\" .format(score))"
   ]
  },
  {
   "cell_type": "code",
   "execution_count": 103,
   "metadata": {},
   "outputs": [
    {
     "name": "stdout",
     "output_type": "stream",
     "text": [
      "CPU times: total: 625 ms\n",
      "Wall time: 41.5 ms\n"
     ]
    },
    {
     "name": "stderr",
     "output_type": "stream",
     "text": [
      "f:\\work\\masters-ai\\ics5510-project\\.venv\\Lib\\site-packages\\tqdm\\auto.py:21: TqdmWarning: IProgress not found. Please update jupyter and ipywidgets. See https://ipywidgets.readthedocs.io/en/stable/user_install.html\n",
      "  from .autonotebook import tqdm as notebook_tqdm\n",
      "f:\\work\\masters-ai\\ics5510-project\\.venv\\Lib\\site-packages\\shap\\explainers\\_tree.py:448: UserWarning: LightGBM binary classifier with TreeExplainer shap values output has changed to a list of ndarray\n",
      "  warnings.warn('LightGBM binary classifier with TreeExplainer shap values output has changed to a list of ndarray')\n"
     ]
    }
   ],
   "source": [
    "import shap\n",
    "lgbm.params['objective'] = 'binary' ## workaround\n",
    "%time shap_values = shap.TreeExplainer(lgbm).shap_values(X)"
   ]
  },
  {
   "cell_type": "code",
   "execution_count": 104,
   "metadata": {},
   "outputs": [
    {
     "data": {
      "image/png": "[encoded data removed]",
      "text/plain": [
       "<Figure size 800x590 with 2 Axes>"
      ]
     },
     "metadata": {},
     "output_type": "display_data"
    }
   ],
   "source": [
    "shap.summary_plot(shap_values, X)\n"
   ]
  },
  {
   "cell_type": "markdown",
   "metadata": {},
   "source": [
    "# Neural network"
   ]
  },
  {
   "cell_type": "code",
   "execution_count": 105,
   "metadata": {},
   "outputs": [
    {
     "name": "stdout",
     "output_type": "stream",
     "text": [
      "Train shape: (5410, 11), train type: <class 'pandas.core.frame.DataFrame'>\n",
      "Validation shape: (1804, 11), validation type: <class 'pandas.core.frame.DataFrame'>\n",
      "Train target shape: (5410,) train target type: <class 'pandas.core.series.Series'>\n",
      "Validation target shape: (1804,) validation target type: <class 'pandas.core.series.Series'>\n"
     ]
    }
   ],
   "source": [
    "import torch\n",
    "\n",
    "print(f\"Train shape: {train_x.shape}, train type: {type(train_x)}\")\n",
    "print(f\"Validation shape: {valid_x.shape}, validation type: {type(valid_x)}\")\n",
    "print(f\"Train target shape: {train_y.shape} train target type: {type(train_y)}\")\n",
    "print(f\"Validation target shape: {valid_y.shape} validation target type: {type(valid_y)}\")\n",
    "\n",
    "\n",
    "X_train_tensor = torch.tensor(train_x.to_numpy(), dtype=torch.float32)\n",
    "y_train_tensor = torch.tensor(train_y.to_numpy(), dtype=torch.float32)\n",
    "X_dev_tensor = torch.tensor(valid_x.to_numpy(), dtype=torch.float32)\n",
    "y_dev_tensor = torch.tensor(valid_y.to_numpy(), dtype=torch.float32)"
   ]
  },
  {
   "cell_type": "code",
   "execution_count": 109,
   "metadata": {},
   "outputs": [
    {
     "name": "stdout",
     "output_type": "stream",
     "text": [
      "Epoch 1/100, Loss: 0.0200\n",
      "Epoch 2/100, Loss: 0.0193\n",
      "Epoch 3/100, Loss: 0.0192\n",
      "Epoch 4/100, Loss: 0.0191\n",
      "Epoch 5/100, Loss: 0.0191\n",
      "Epoch 6/100, Loss: 0.0191\n",
      "Epoch 7/100, Loss: 0.0190\n",
      "Epoch 8/100, Loss: 0.0190\n",
      "Epoch 9/100, Loss: 0.0190\n",
      "Epoch 10/100, Loss: 0.0190\n",
      "Epoch 11/100, Loss: 0.0190\n",
      "Epoch 12/100, Loss: 0.0190\n",
      "Epoch 13/100, Loss: 0.0190\n",
      "Epoch 14/100, Loss: 0.0189\n",
      "Epoch 15/100, Loss: 0.0189\n",
      "Epoch 16/100, Loss: 0.0189\n",
      "Epoch 17/100, Loss: 0.0189\n",
      "Epoch 18/100, Loss: 0.0189\n",
      "Epoch 19/100, Loss: 0.0189\n",
      "Epoch 20/100, Loss: 0.0189\n",
      "Epoch 21/100, Loss: 0.0189\n",
      "Epoch 22/100, Loss: 0.0189\n",
      "Epoch 23/100, Loss: 0.0189\n",
      "Epoch 24/100, Loss: 0.0189\n",
      "Epoch 25/100, Loss: 0.0189\n",
      "Epoch 26/100, Loss: 0.0189\n",
      "Epoch 27/100, Loss: 0.0188\n",
      "Epoch 28/100, Loss: 0.0188\n",
      "Epoch 29/100, Loss: 0.0188\n",
      "Epoch 30/100, Loss: 0.0188\n",
      "Epoch 31/100, Loss: 0.0188\n",
      "Epoch 32/100, Loss: 0.0188\n",
      "Epoch 33/100, Loss: 0.0188\n",
      "Epoch 34/100, Loss: 0.0188\n",
      "Epoch 35/100, Loss: 0.0188\n",
      "Epoch 36/100, Loss: 0.0188\n",
      "Epoch 37/100, Loss: 0.0188\n",
      "Epoch 38/100, Loss: 0.0188\n",
      "Epoch 39/100, Loss: 0.0188\n",
      "Epoch 40/100, Loss: 0.0188\n",
      "Epoch 41/100, Loss: 0.0188\n",
      "Epoch 42/100, Loss: 0.0188\n",
      "Epoch 43/100, Loss: 0.0188\n",
      "Epoch 44/100, Loss: 0.0188\n",
      "Epoch 45/100, Loss: 0.0188\n",
      "Epoch 46/100, Loss: 0.0188\n",
      "Epoch 47/100, Loss: 0.0188\n",
      "Epoch 48/100, Loss: 0.0187\n",
      "Epoch 49/100, Loss: 0.0187\n",
      "Epoch 50/100, Loss: 0.0187\n",
      "Epoch 51/100, Loss: 0.0187\n",
      "Epoch 52/100, Loss: 0.0187\n",
      "Epoch 53/100, Loss: 0.0187\n",
      "Epoch 54/100, Loss: 0.0187\n",
      "Epoch 55/100, Loss: 0.0187\n",
      "Epoch 56/100, Loss: 0.0187\n",
      "Epoch 57/100, Loss: 0.0187\n",
      "Epoch 58/100, Loss: 0.0187\n",
      "Epoch 59/100, Loss: 0.0187\n",
      "Epoch 60/100, Loss: 0.0187\n",
      "Epoch 61/100, Loss: 0.0187\n",
      "Epoch 62/100, Loss: 0.0187\n",
      "Epoch 63/100, Loss: 0.0187\n",
      "Epoch 64/100, Loss: 0.0187\n",
      "Epoch 65/100, Loss: 0.0187\n",
      "Epoch 66/100, Loss: 0.0187\n",
      "Epoch 67/100, Loss: 0.0187\n",
      "Epoch 68/100, Loss: 0.0187\n",
      "Epoch 69/100, Loss: 0.0187\n",
      "Epoch 70/100, Loss: 0.0187\n",
      "Epoch 71/100, Loss: 0.0187\n",
      "Epoch 72/100, Loss: 0.0187\n",
      "Epoch 73/100, Loss: 0.0187\n",
      "Epoch 74/100, Loss: 0.0187\n",
      "Epoch 75/100, Loss: 0.0187\n",
      "Epoch 76/100, Loss: 0.0187\n",
      "Epoch 77/100, Loss: 0.0187\n",
      "Epoch 78/100, Loss: 0.0187\n",
      "Epoch 79/100, Loss: 0.0187\n",
      "Epoch 80/100, Loss: 0.0187\n",
      "Epoch 81/100, Loss: 0.0187\n",
      "Epoch 82/100, Loss: 0.0187\n",
      "Epoch 83/100, Loss: 0.0187\n",
      "Epoch 84/100, Loss: 0.0187\n",
      "Epoch 85/100, Loss: 0.0187\n",
      "Epoch 86/100, Loss: 0.0187\n",
      "Epoch 87/100, Loss: 0.0186\n",
      "Epoch 88/100, Loss: 0.0187\n",
      "Epoch 89/100, Loss: 0.0186\n",
      "Epoch 90/100, Loss: 0.0186\n",
      "Epoch 91/100, Loss: 0.0186\n",
      "Epoch 92/100, Loss: 0.0186\n",
      "Epoch 93/100, Loss: 0.0186\n",
      "Epoch 94/100, Loss: 0.0186\n",
      "Epoch 95/100, Loss: 0.0186\n",
      "Epoch 96/100, Loss: 0.0186\n",
      "Epoch 97/100, Loss: 0.0186\n",
      "Epoch 98/100, Loss: 0.0186\n",
      "Epoch 99/100, Loss: 0.0186\n",
      "Epoch 100/100, Loss: 0.0186\n",
      "Test Accuracy: 0.6574\n",
      "tensor([0.2135, 0.3730, 0.6042, 0.3056, 0.6213, 0.4365, 0.6939, 0.1508, 0.6144,\n",
      "        0.2567])\n",
      "tensor([0., 1., 1., 0., 1., 0., 1., 0., 1., 0.])\n"
     ]
    },
    {
     "data": {
      "image/png": "[encoded data removed]",
      "text/plain": [
       "<Figure size 640x480 with 1 Axes>"
      ]
     },
     "metadata": {},
     "output_type": "display_data"
    }
   ],
   "source": [
    "import torch.nn as nn\n",
    "import torch.nn.functional as F\n",
    "import torch.optim as optim\n",
    "\n",
    "\n",
    "# 2. Define the Neural Network\n",
    "class BinaryClassifier(nn.Module):\n",
    "    def __init__(self, input_size):\n",
    "        super(BinaryClassifier, self).__init__()\n",
    "        self.model = nn.Sequential(\n",
    "            nn.Linear(input_size, 64),\n",
    "            nn.LeakyReLU(),\n",
    "            nn.Linear(64, 32),\n",
    "            nn.LeakyReLU(),\n",
    "            nn.Linear(32, 1),  # Output layer with 1 node (for logits)\n",
    "        )\n",
    "\n",
    "    def forward(self, x):\n",
    "        return self.model(x)\n",
    "\n",
    "input_size = train_x.shape[1]\n",
    "model = BinaryClassifier(input_size)\n",
    "\n",
    "# 3. Define the Loss Function and Optimizer\n",
    "criterion = nn.BCEWithLogitsLoss()  # Binary Cross-Entropy Loss with Logits\n",
    "optimizer = optim.Adam(model.parameters(), lr=0.001)\n",
    "\n",
    "# 4. Training Loop\n",
    "epochs = 100\n",
    "batch_size = 32\n",
    "num_samples = X_train_tensor.size(0)\n",
    "\n",
    "losses = []\n",
    "\n",
    "for epoch in range(epochs):\n",
    "    model.train()\n",
    "    epoch_loss = 0.0\n",
    "\n",
    "    # Mini-batch training\n",
    "    for i in range(0, num_samples, batch_size):\n",
    "        X_batch = X_train_tensor[i:i+batch_size]\n",
    "        y_batch = y_train_tensor[i:i+batch_size]\n",
    "\n",
    "        # Forward pass\n",
    "        outputs = model(X_batch).squeeze()  # Squeeze to match target shape\n",
    "        loss = criterion(outputs, y_batch)\n",
    "\n",
    "        # Backward pass and optimization\n",
    "        optimizer.zero_grad()\n",
    "        loss.backward()\n",
    "        optimizer.step()\n",
    "\n",
    "        epoch_loss += loss.item()\n",
    "\n",
    "    losses.append(epoch_loss/num_samples)\n",
    "    \n",
    "    \n",
    "    print(f\"Epoch {epoch+1}/{epochs}, Loss: {epoch_loss/num_samples:.4f}\")\n",
    "\n",
    "# 5. Evaluation\n",
    "model.eval()\n",
    "with torch.no_grad():\n",
    "    outputs = model(X_dev_tensor).squeeze()\n",
    "    predictions = torch.sigmoid(outputs) > 0.5  # Convert logits to probabilities and apply threshold\n",
    "    accuracy = (predictions == y_dev_tensor).float().mean()\n",
    "\n",
    "print(f\"Test Accuracy: {accuracy.item():.4f}\")\n",
    "\n",
    "\n",
    "with torch.no_grad():\n",
    "    probabilities = torch.sigmoid(model(X_train_tensor)).squeeze()\n",
    "    print(probabilities[:10])  # Print the first 10 probabilities\n",
    "    print(y_train_tensor[:10])  # Compare with true labels\n",
    "\n",
    "plt.plot(losses)\n",
    "plt.title(\"Training Loss\")\n",
    "plt.xlabel(\"Epoch\")\n",
    "plt.ylabel(\"Loss\")\n",
    "plt.show()\n",
    "\n"
   ]
  },
  {
   "cell_type": "code",
   "execution_count": 116,
   "metadata": {},
   "outputs": [
    {
     "name": "stdout",
     "output_type": "stream",
     "text": [
      "Epoch 1/20, Loss: 0.0200, Training Accuracy: 0.6591\n",
      "Epoch 2/20, Loss: 0.0193, Training Accuracy: 0.6738\n",
      "Epoch 3/20, Loss: 0.0192, Training Accuracy: 0.6738\n",
      "Epoch 4/20, Loss: 0.0191, Training Accuracy: 0.6732\n",
      "Epoch 5/20, Loss: 0.0191, Training Accuracy: 0.6747\n",
      "Epoch 6/20, Loss: 0.0191, Training Accuracy: 0.6752\n",
      "Epoch 7/20, Loss: 0.0190, Training Accuracy: 0.6750\n",
      "Epoch 8/20, Loss: 0.0190, Training Accuracy: 0.6754\n",
      "Epoch 9/20, Loss: 0.0190, Training Accuracy: 0.6762\n",
      "Epoch 10/20, Loss: 0.0190, Training Accuracy: 0.6763\n",
      "Epoch 11/20, Loss: 0.0190, Training Accuracy: 0.6763\n",
      "Epoch 12/20, Loss: 0.0190, Training Accuracy: 0.6767\n",
      "Epoch 13/20, Loss: 0.0190, Training Accuracy: 0.6774\n",
      "Epoch 14/20, Loss: 0.0189, Training Accuracy: 0.6774\n",
      "Epoch 15/20, Loss: 0.0189, Training Accuracy: 0.6765\n",
      "Epoch 16/20, Loss: 0.0189, Training Accuracy: 0.6776\n",
      "Epoch 17/20, Loss: 0.0189, Training Accuracy: 0.6778\n",
      "Epoch 18/20, Loss: 0.0189, Training Accuracy: 0.6776\n",
      "Epoch 19/20, Loss: 0.0189, Training Accuracy: 0.6773\n",
      "Epoch 20/20, Loss: 0.0189, Training Accuracy: 0.6780\n",
      "Test Accuracy: 0.6596\n",
      "tensor([0, 0, 1, 0, 1, 0, 1, 0, 1, 0], dtype=torch.int32)\n",
      "tensor([0., 1., 1., 0., 1., 0., 1., 0., 1., 0.])\n"
     ]
    }
   ],
   "source": [
    "# 2. Define the Neural Network\n",
    "class BinaryClassifier(nn.Module):\n",
    "    def __init__(self, input_size):\n",
    "        super(BinaryClassifier, self).__init__()\n",
    "        self.model = nn.Sequential(\n",
    "            nn.Linear(input_size, 64),\n",
    "            nn.ReLU(),\n",
    "            nn.Linear(64, 32),\n",
    "            nn.ReLU(),\n",
    "            nn.Linear(32, 1)  # Output layer with 1 node (logit)\n",
    "        )\n",
    "\n",
    "    def forward(self, x):\n",
    "        return self.model(x)\n",
    "\n",
    "input_size = train_x.shape[1]\n",
    "model = BinaryClassifier(input_size)\n",
    "\n",
    "# 3. Define the Loss Function and Optimizer\n",
    "criterion = nn.BCEWithLogitsLoss()  # Binary Cross-Entropy Loss with logits\n",
    "optimizer = optim.Adam(model.parameters(), lr=0.001)\n",
    "\n",
    "# 4. Training Loop\n",
    "epochs = 20\n",
    "batch_size = 32\n",
    "num_samples = X_train_tensor.size(0)\n",
    "\n",
    "for epoch in range(epochs):\n",
    "    model.train()\n",
    "    epoch_loss = 0.0\n",
    "    correct = 0\n",
    "    total = 0\n",
    "\n",
    "    for i in range(0, num_samples, batch_size):\n",
    "        # Mini-batch preparation\n",
    "        X_batch = X_train_tensor[i:i+batch_size]\n",
    "        y_batch = y_train_tensor[i:i+batch_size]\n",
    "\n",
    "        # Forward pass\n",
    "        logits = model(X_batch).squeeze()  # Raw logits\n",
    "        loss = criterion(logits, y_batch)\n",
    "\n",
    "        # Backward pass\n",
    "        optimizer.zero_grad()\n",
    "        loss.backward()\n",
    "        optimizer.step()\n",
    "\n",
    "        epoch_loss += loss.item()\n",
    "\n",
    "        # Calculate binary predictions for monitoring accuracy\n",
    "        probabilities = torch.sigmoid(logits)  # Convert logits to probabilities\n",
    "        predictions = (probabilities > 0.5).int()  # Apply threshold\n",
    "        correct += (predictions == y_batch.int()).sum().item()  # Compare with ground truth\n",
    "        total += y_batch.size(0)\n",
    "\n",
    "    # Training accuracy\n",
    "    accuracy = correct / total\n",
    "    print(f\"Epoch {epoch+1}/{epochs}, Loss: {epoch_loss/num_samples:.4f}, Training Accuracy: {accuracy:.4f}\")\n",
    "\n",
    "# 5. Evaluation\n",
    "model.eval()\n",
    "with torch.no_grad():\n",
    "    logits = model(X_dev_tensor).squeeze()  # Raw logits\n",
    "    probabilities = torch.sigmoid(logits)  # Convert logits to probabilities\n",
    "    predictions = (probabilities > 0.5).int()  # Apply threshold\n",
    "    accuracy = (predictions == y_dev_tensor.int()).float().mean()  # Calculate accuracy\n",
    "    print(f\"Test Accuracy: {accuracy.item():.4f}\")\n",
    "    \n",
    "\n",
    "with torch.no_grad():\n",
    "    probabilities = torch.sigmoid(model(X_train_tensor)).squeeze()\n",
    "    predictions = (probabilities > 0.5).int()  # Apply threshold\n",
    "\n",
    "    print(predictions[:10])  # Print the first 10 probabilities\n",
    "    print(y_train_tensor[:10])  # Compare with true labels"
   ]
  }
 ],
 "metadata": {
  "kernelspec": {
   "display_name": ".venv",
   "language": "python",
   "name": "python3"
  },
  "language_info": {
   "codemirror_mode": {
    "name": "ipython",
    "version": 3
   },
   "file_extension": ".py",
   "mimetype": "text/x-python",
   "name": "python",
   "nbconvert_exporter": "python",
   "pygments_lexer": "ipython3",
   "version": "3.12.5"
  }
 },
 "nbformat": 4,
 "nbformat_minor": 2
}
