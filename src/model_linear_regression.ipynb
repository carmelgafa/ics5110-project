{
 "cells": [
  {
   "cell_type": "code",
   "execution_count": 112,
   "metadata": {},
   "outputs": [],
   "source": [
    "import os\n",
    "import pandas as pd\n",
    "from sklearn.linear_model import LinearRegression\n",
    "from sklearn.metrics import mean_squared_error, r2_score\n",
    "from sklearn.preprocessing import StandardScaler\n",
    "import numpy as np\n",
    "import seaborn as sns"
   ]
  },
  {
   "cell_type": "code",
   "execution_count": 113,
   "metadata": {},
   "outputs": [],
   "source": [
    "RESULTS_FOLDER = \"../results\"\n",
    "DATA_FOLDER = \"../data\"\n",
    "TEMP_FOLDER = \"../tmp\""
   ]
  },
  {
   "cell_type": "markdown",
   "metadata": {},
   "source": [
    "## Load the training dataset\n",
    "\n",
    "Load the train dataset in a pandas dataframe"
   ]
  },
  {
   "cell_type": "code",
   "execution_count": 114,
   "metadata": {},
   "outputs": [],
   "source": [
    "df_train_path = os.path.join(DATA_FOLDER, 'train_dataset.csv')\n",
    "df_train = pd.read_csv(df_train_path)"
   ]
  },
  {
   "cell_type": "markdown",
   "metadata": {},
   "source": [
    "## Create additional features\n",
    "\n",
    "We create the following additional features:\n",
    "\n",
    "- `history_of_violence` - sum of all violence-related crimes in the past\n",
    "- `socioeconomic_stability` - 1 / (1 + `priors_count`). If no priors count this will be equal to 1 (good stability), otherwise it will start getting smaller with each increase of priors\n"
   ]
  },
  {
   "cell_type": "code",
   "execution_count": 115,
   "metadata": {},
   "outputs": [],
   "source": [
    "df_train[\"history_of_violence\"] = (\n",
    "    df_train[\"juv_fel_count\"] +\n",
    "    df_train[\"juv_misd_count\"] +\n",
    "    df_train[\"juv_other_count\"] +\n",
    "    df_train[\"priors_count\"]\n",
    ")\n",
    "\n",
    "# Socioeconomic stability proxy\n",
    "df_train[\"socioeconomic_stability\"] = (1 / (1 + df_train[\"priors_count\"])) "
   ]
  },
  {
   "cell_type": "markdown",
   "metadata": {},
   "source": [
    "## Prepare data for model training\n",
    "\n",
    "- Select features to be used for training\n",
    "    - `age`\n",
    "    - `priors_count`\n",
    "    - `history_of_violence`\n",
    "    - `days_b_screening_arrest`\n",
    "    - `socioeconomic_stability`\n",
    "    - `c_charge_degree_F`\n",
    "    - `c_charge_degree_M`\n",
    "- Scale all features, mean 0 and std dev 1\n",
    "\n",
    "\n",
    "- Select the label for training\n",
    "    - `two_year_recid` * 10 to put the scale between 0 and 10\n",
    "\n"
   ]
  },
  {
   "cell_type": "code",
   "execution_count": 116,
   "metadata": {},
   "outputs": [],
   "source": [
    "\n",
    "X_train = df_train[[ \n",
    "    \"age\", \"priors_count\", \"history_of_violence\", \n",
    "    \"socioeconomic_stability\", \"c_charge_degree_F\", \"c_charge_degree_M\"\n",
    "]]\n",
    "\n",
    "scaler = StandardScaler()\n",
    "X_train_scaled = scaler.fit_transform(X_train)\n",
    "\n",
    "y_train = df_train[\"two_year_recid\"] * 10\n"
   ]
  },
  {
   "cell_type": "markdown",
   "metadata": {},
   "source": [
    "## Train linear regression\n",
    "\n",
    "- limit range of predicted values between 0 and 10"
   ]
  },
  {
   "cell_type": "code",
   "execution_count": 117,
   "metadata": {},
   "outputs": [],
   "source": [
    "\n",
    "model = LinearRegression()\n",
    "model.fit(X_train_scaled, y_train)\n",
    "y_pred = model.predict(X_train_scaled)\n",
    "\n",
    "# y_pred_normalized =  10 * (y_pred - y_pred.min()) / (y_pred.max() - y_pred.min())\n",
    "# y_pred_normalized = 10 / (1 + np.exp(-y_pred))\n",
    "y_pred =  np.clip( np.ceil(y_pred), 0, 10)\n",
    "# y_pred =  np.clip( np.floor(y_pred), 0, 10)\n"
   ]
  },
  {
   "cell_type": "markdown",
   "metadata": {},
   "source": [
    "## Print the coefficients for linear regression\n",
    "\n",
    "print intercept and all other coefficients"
   ]
  },
  {
   "cell_type": "code",
   "execution_count": 118,
   "metadata": {},
   "outputs": [
    {
     "name": "stdout",
     "output_type": "stream",
     "text": [
      "Intercept (w_0): 4.498353838156299\n",
      "                   Feature  Coefficient\n",
      "0                      age    -1.099823\n",
      "1             priors_count     0.210068\n",
      "2      history_of_violence     0.803596\n",
      "3  socioeconomic_stability    -0.752347\n",
      "4        c_charge_degree_F     0.097469\n",
      "5        c_charge_degree_M    -0.097469\n"
     ]
    }
   ],
   "source": [
    "\n",
    "print(\"Intercept (w_0):\", model.intercept_)\n",
    "\n",
    "coefficients = pd.DataFrame({\n",
    "    \"Feature\": X_train.columns,\n",
    "    \"Coefficient\": model.coef_\n",
    "})\n",
    "\n",
    "print(coefficients)\n"
   ]
  },
  {
   "cell_type": "code",
   "execution_count": 119,
   "metadata": {},
   "outputs": [],
   "source": [
    "def compare_with_two_year_recid(pred_type, y_pred):\n",
    "    '''\n",
    "    categorize the predicted scores into low, medium, and high risk groups\n",
    "    '''\n",
    "    \n",
    "    def categorize_score(score):\n",
    "        if score <= 4:\n",
    "            return \"Low\"\n",
    "        elif 5 <= score <= 7:\n",
    "            return \"Medium\"\n",
    "        else:\n",
    "            return \"High\"\n",
    "\n",
    "    # Add the predictions to the dataframe by mapping the categorize_score function to the predictions\n",
    "    # prediction values will be low, medium, or high\n",
    "    df_train[f\"Predicted_{pred_type}_Risk_Group\"] = pd.Categorical(\n",
    "        pd.Series(y_pred).map(categorize_score),\n",
    "        categories=[\"Low\", \"Medium\", \"High\"],\n",
    "        ordered=True\n",
    "    )\n",
    "\n",
    "    # groups based on predicted risk group and actual recidivism\n",
    "    # size() returns the number of rows in each group\n",
    "    # unstack() pivots the table so that the predicted risk group is the index and the two_year_recid is the column\n",
    "    predicted_grouped = df_train.groupby(\n",
    "        [f\"Predicted_{pred_type}_Risk_Group\", \"two_year_recid\"]).size().unstack(fill_value=0)\n",
    "\n",
    "    # save to csv\n",
    "    predicted_file_path = os.path.join(RESULTS_FOLDER, f\"predicted_vs_recid_{pred_type}.csv\")\n",
    "    predicted_grouped.to_csv(predicted_file_path)\n",
    "\n",
    "    # as above but add race to the grouping\n",
    "    race_comparison = df_train.groupby(\n",
    "        [\"race\", f\"Predicted_{pred_type}_Risk_Group\", \"two_year_recid\"]).size().unstack(fill_value=0)\n",
    "\n",
    "    # save to csv\n",
    "    race_comparison_file_path = os.path.join(RESULTS_FOLDER, f\"predicted_risk_by_race_{pred_type}_summary.csv\")\n",
    "    race_comparison.to_csv(race_comparison_file_path)\n"
   ]
  },
  {
   "cell_type": "code",
   "execution_count": 120,
   "metadata": {},
   "outputs": [
    {
     "name": "stderr",
     "output_type": "stream",
     "text": [
      "C:\\Users\\carme\\AppData\\Local\\Temp\\ipykernel_32172\\436693490.py:21: FutureWarning: The default of observed=False is deprecated and will be changed to True in a future version of pandas. Pass observed=False to retain current behavior or observed=True to adopt the future default and silence this warning.\n",
      "  predicted_grouped = df_train.groupby([f\"Predicted_{pred_type}_Risk_Group\", \"two_year_recid\"]).size().unstack(fill_value=0)\n",
      "C:\\Users\\carme\\AppData\\Local\\Temp\\ipykernel_32172\\436693490.py:47: FutureWarning: The default of observed=False is deprecated and will be changed to True in a future version of pandas. Pass observed=False to retain current behavior or observed=True to adopt the future default and silence this warning.\n",
      "  race_comparison = df_train.groupby([\"race\", f\"Predicted_{pred_type}_Risk_Group\", \"two_year_recid\"]).size().unstack(fill_value=0)\n"
     ]
    }
   ],
   "source": [
    "compare_with_two_year_recid(\"LinearRegression\", y_pred)"
   ]
  }
 ],
 "metadata": {
  "kernelspec": {
   "display_name": ".venv",
   "language": "python",
   "name": "python3"
  },
  "language_info": {
   "codemirror_mode": {
    "name": "ipython",
    "version": 3
   },
   "file_extension": ".py",
   "mimetype": "text/x-python",
   "name": "python",
   "nbconvert_exporter": "python",
   "pygments_lexer": "ipython3",
   "version": "3.12.5"
  }
 },
 "nbformat": 4,
 "nbformat_minor": 2
}
