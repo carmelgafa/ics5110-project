{
 "cells": [
  {
   "cell_type": "code",
   "execution_count": 133,
   "metadata": {},
   "outputs": [],
   "source": [
    "# imports\n",
    "\n",
    "import os\n",
    "import pandas as pd\n",
    "import pandas as pd\n",
    "import matplotlib.pyplot as plt\n",
    "import seaborn as sns\n",
    "from sklearn.impute import KNNImputer\n",
    "\n",
    "from report_writer import ReportWriter\n",
    "from utils import get_info"
   ]
  },
  {
   "cell_type": "code",
   "execution_count": 134,
   "metadata": {},
   "outputs": [],
   "source": [
    "\n",
    "# important folders in this excercise\n",
    "\n",
    "RESULTS_FOLDER = \"../results\"\n",
    "DATA_FOLDER = \"../data\"\n",
    "TEMP_FOLDER = \"../tmp\""
   ]
  },
  {
   "cell_type": "markdown",
   "metadata": {},
   "source": [
    "## Download the data file"
   ]
  },
  {
   "cell_type": "code",
   "execution_count": 135,
   "metadata": {},
   "outputs": [],
   "source": [
    "FILE_URL ='https://raw.githubusercontent.com/propublica/compas-analysis/refs/heads/master/compas-scores-two-years.csv'\n",
    "FILE_NAME = 'compas-scores-two-years.csv'\n",
    "\n",
    "# file is small, i will not chunk\n",
    "\n",
    "if not os.path.exists(DATA_FOLDER):\n",
    "    os.makedirs(DATA_FOLDER)\n",
    "\n",
    "if not os.path.exists(os.path.join(DATA_FOLDER, FILE_NAME)):\n",
    "    import urllib.request\n",
    "    urllib.request.urlretrieve(FILE_URL, os.path.join(DATA_FOLDER, FILE_NAME))\n",
    "\n"
   ]
  },
  {
   "cell_type": "code",
   "execution_count": 136,
   "metadata": {},
   "outputs": [
    {
     "name": "stdout",
     "output_type": "stream",
     "text": [
      "Shape of dataset: (7214, 53)\n"
     ]
    }
   ],
   "source": [
    "# load data file located in compass-analysis folder\n",
    "\n",
    "data_file_path = os.path.join(DATA_FOLDER, 'compas-scores-two-years.csv')\n",
    "df = pd.read_csv(data_file_path)\n",
    "print(f'Shape of dataset: {df.shape}')"
   ]
  },
  {
   "cell_type": "markdown",
   "metadata": {},
   "source": [
    "## First look at the data\n",
    "\n",
    "We look at the dataset, storing all the results in excel. in this step we will\n",
    "- look at the dataframe information\n",
    "- capture the first 5 rows\n",
    "- look at information regarding numerical fields, min. max etc\n"
   ]
  },
  {
   "cell_type": "code",
   "execution_count": 137,
   "metadata": {},
   "outputs": [],
   "source": [
    "\n",
    "report_file_path = os.path.join(RESULTS_FOLDER, 'initial_analysis_report.xlsx')\n",
    "\n",
    "rep_writer = ReportWriter(report_file_path)\n",
    "\n",
    "# what are the data types\n",
    "rep_writer.add_data_frame(get_info(df), 'data_types')\n",
    "\n",
    "# look at first 5 rows in dataset\n",
    "rep_writer.add_data_frame(df.head(), 'first_5_rows')\n",
    "\n",
    "# summerize numerical vals\n",
    "rep_writer.add_data_frame(df.describe(), 'numerical_summary')\n",
    "\n",
    "rep_writer.save()"
   ]
  },
  {
   "cell_type": "markdown",
   "metadata": {},
   "source": [
    "## Missing Values Handling"
   ]
  },
  {
   "cell_type": "code",
   "execution_count": 138,
   "metadata": {},
   "outputs": [],
   "source": [
    "import os\n",
    "import missingno as msno\n",
    "import pandas as pd\n",
    "import matplotlib.pyplot as plt\n",
    "\n",
    "threshold = 0.5\n",
    "\n",
    "# Original column names\n",
    "original_columns = df.columns\n",
    "\n",
    "# Drop columns below threshold\n",
    "df_cleaned = df.dropna(axis=1, thresh=int(threshold * len(df)))\n",
    "\n",
    "# Identify dropped columns\n",
    "dropped_columns = original_columns.difference(df_cleaned.columns)\n",
    "rep_writer.add_data_frame(pd.DataFrame(dropped_columns, columns=[\"Dropped Columns\"]), 'dropped_columns')\n",
    "\n",
    "\n",
    "# Calculate missing data percentages\n",
    "missing_before = df.isnull().mean() * 100\n",
    "missing_after = df_cleaned.isnull().mean() * 100\n",
    "\n",
    "fig, axes = plt.subplots(1, 2, figsize=(14, 6))\n",
    "\n",
    "# Before cleaning\n",
    "axes[0].barh(missing_before.index, missing_before.values, color='dodgerblue')\n",
    "axes[0].set_title(\"Missing Data Before Cleaning\")\n",
    "axes[0].set_xlabel(\"Percentage of Missing Values\")\n",
    "axes[0].set_xlim(0, 100)\n",
    "\n",
    "# After cleaning\n",
    "axes[1].barh(missing_after.index, missing_after.values, color='seagreen')\n",
    "axes[1].set_title(\"Missing Data After Cleaning\")\n",
    "axes[1].set_xlabel(\"Percentage of Missing Values\")\n",
    "axes[1].set_xlim(0, 100)\n",
    "\n",
    "# Clean up axes\n",
    "for ax in axes:\n",
    "    ax.invert_yaxis()  # Invert for better readability\n",
    "\n",
    "plt.tight_layout()\n",
    "\n",
    "# Save the combined plot\n",
    "combined_plot_path = os.path.join(TEMP_FOLDER, 'missing_data_barplot.png')\n",
    "plt.savefig(combined_plot_path, dpi=300)\n",
    "plt.close()\n",
    "\n",
    "# Add the combined plot to the report\n",
    "rep_writer.add_current_plt(combined_plot_path, 'missing_data_barplot')\n",
    "rep_writer.save()\n",
    "\n"
   ]
  },
  {
   "cell_type": "markdown",
   "metadata": {},
   "source": [
    "## Reduce the dataset to the necessary columns"
   ]
  },
  {
   "cell_type": "code",
   "execution_count": 139,
   "metadata": {},
   "outputs": [],
   "source": [
    "# List of columns needed for data analysis\n",
    "needed_columns = [\n",
    "    \"compas_screening_date\", \"sex\", \"age\", \"age_cat\", \"race\", \n",
    "    \"juv_misd_count\", \"juv_fel_count\", \"juv_other_count\", \n",
    "    \"priors_count\", \"days_b_screening_arrest\", \"c_charge_degree\", \n",
    "    \"two_year_recid\", \"decile_score\", \"score_text\"\n",
    "]\n",
    "\n",
    "# Reduce the dataset to only the needed columns\n",
    "df_reduced = df_cleaned[needed_columns]\n",
    "\n",
    "reduced_file_path = os.path.join(DATA_FOLDER, 'reduced_dataset.csv')\n",
    "df_reduced.to_csv(reduced_file_path, index=False)\n"
   ]
  },
  {
   "cell_type": "code",
   "execution_count": 140,
   "metadata": {},
   "outputs": [
    {
     "name": "stdout",
     "output_type": "stream",
     "text": [
      "<class 'pandas.core.frame.DataFrame'>\n",
      "RangeIndex: 7214 entries, 0 to 7213\n",
      "Data columns (total 14 columns):\n",
      " #   Column                   Non-Null Count  Dtype  \n",
      "---  ------                   --------------  -----  \n",
      " 0   compas_screening_date    7214 non-null   object \n",
      " 1   sex                      7214 non-null   object \n",
      " 2   age                      7214 non-null   int64  \n",
      " 3   age_cat                  7214 non-null   object \n",
      " 4   race                     7214 non-null   object \n",
      " 5   juv_misd_count           7214 non-null   int64  \n",
      " 6   juv_fel_count            7214 non-null   int64  \n",
      " 7   juv_other_count          7214 non-null   int64  \n",
      " 8   priors_count             7214 non-null   int64  \n",
      " 9   days_b_screening_arrest  6907 non-null   float64\n",
      " 10  c_charge_degree          7214 non-null   object \n",
      " 11  two_year_recid           7214 non-null   int64  \n",
      " 12  decile_score             7214 non-null   int64  \n",
      " 13  score_text               7214 non-null   object \n",
      "dtypes: float64(1), int64(7), object(6)\n",
      "memory usage: 789.2+ KB\n"
     ]
    }
   ],
   "source": [
    "df_reduced.info()"
   ]
  },
  {
   "cell_type": "markdown",
   "metadata": {},
   "source": [
    "## Imputation of missing days_b_screening_arrest  "
   ]
  },
  {
   "cell_type": "code",
   "execution_count": null,
   "metadata": {},
   "outputs": [
    {
     "name": "stdout",
     "output_type": "stream",
     "text": [
      "<class 'pandas.core.frame.DataFrame'>\n",
      "RangeIndex: 7214 entries, 0 to 7213\n",
      "Data columns (total 14 columns):\n",
      " #   Column                   Non-Null Count  Dtype  \n",
      "---  ------                   --------------  -----  \n",
      " 0   compas_screening_date    7214 non-null   object \n",
      " 1   sex                      7214 non-null   object \n",
      " 2   age                      7214 non-null   int64  \n",
      " 3   age_cat                  7214 non-null   object \n",
      " 4   race                     7214 non-null   object \n",
      " 5   juv_misd_count           7214 non-null   int64  \n",
      " 6   juv_fel_count            7214 non-null   int64  \n",
      " 7   juv_other_count          7214 non-null   int64  \n",
      " 8   priors_count             7214 non-null   int64  \n",
      " 9   days_b_screening_arrest  7214 non-null   float64\n",
      " 10  c_charge_degree          7214 non-null   object \n",
      " 11  two_year_recid           7214 non-null   int64  \n",
      " 12  decile_score             7214 non-null   int64  \n",
      " 13  score_text               7214 non-null   object \n",
      "dtypes: float64(1), int64(7), object(6)\n",
      "memory usage: 789.2+ KB\n",
      "None\n"
     ]
    },
    {
     "name": "stderr",
     "output_type": "stream",
     "text": [
      "C:\\Users\\carme\\AppData\\Local\\Temp\\ipykernel_24244\\2464486596.py:17: SettingWithCopyWarning: \n",
      "A value is trying to be set on a copy of a slice from a DataFrame.\n",
      "Try using .loc[row_indexer,col_indexer] = value instead\n",
      "\n",
      "See the caveats in the documentation: https://pandas.pydata.org/pandas-docs/stable/user_guide/indexing.html#returning-a-view-versus-a-copy\n",
      "  df_reduced[target_column] = df_subset_imputed[target_column]\n"
     ]
    },
    {
     "data": {
      "image/png": "[encoded data removed]",
      "text/plain": [
       "<Figure size 1200x600 with 1 Axes>"
      ]
     },
     "metadata": {},
     "output_type": "display_data"
    }
   ],
   "source": [
    "\n",
    "df_reduced_copy = df_reduced.copy() \n",
    "\n",
    "# Columns to use as predictors for KNN Imputation (numeric only)\n",
    "predictor_columns = [\"age\", \"juv_fel_count\", \"juv_misd_count\", \"juv_other_count\", \"priors_count\", \"two_year_recid\", \"decile_score\"]\n",
    "\n",
    "# Target column to fill\n",
    "target_column = \"days_b_screening_arrest\"\n",
    "\n",
    "# Combine the predictors and target column into a separate DataFrame\n",
    "df_subset = df_reduced[predictor_columns + [target_column]]\n",
    "\n",
    "# Apply KNN Imputer only to the subset\n",
    "imputer = KNNImputer(n_neighbors=5)\n",
    "df_subset_imputed = pd.DataFrame(imputer.fit_transform(df_subset), columns=df_subset.columns)\n",
    "\n",
    "# Replace only the target column in the original DataFrame\n",
    "df_reduced[target_column] = df_subset_imputed[target_column]\n",
    "\n",
    "imputed_file_path = os.path.join(DATA_FOLDER, 'imputed_dataset.csv')\n",
    "df_reduced.to_csv(imputed_file_path, index=False)\n",
    "\n",
    "\n",
    "\n",
    "\n",
    "# Plot distributions before and after imputation\n",
    "plt.figure(figsize=(12, 6))\n",
    "sns.kdeplot(df_reduced[target_column], label=\"After Imputation\", color=\"green\", fill=True)\n",
    "sns.kdeplot(df_reduced_copy[target_column], label=\"Before Imputation\", color=\"red\", fill=True)\n",
    "plt.title(\"Effect of KNN Imputation on 'days_b_screening_arrest'\")\n",
    "plt.xlabel(\"Days Between Arrest and Screening\")\n",
    "plt.ylabel(\"Density\")\n",
    "plt.legend()\n",
    "plt.show()\n",
    "\n"
   ]
  },
  {
   "cell_type": "code",
   "execution_count": 159,
   "metadata": {},
   "outputs": [
    {
     "name": "stdout",
     "output_type": "stream",
     "text": [
      "<class 'pandas.core.frame.DataFrame'>\n",
      "RangeIndex: 7214 entries, 0 to 7213\n",
      "Data columns (total 15 columns):\n",
      " #   Column                   Non-Null Count  Dtype  \n",
      "---  ------                   --------------  -----  \n",
      " 0   compas_screening_date    7214 non-null   object \n",
      " 1   sex                      7214 non-null   object \n",
      " 2   age                      7214 non-null   int64  \n",
      " 3   age_cat                  7214 non-null   object \n",
      " 4   race                     7214 non-null   object \n",
      " 5   juv_misd_count           7214 non-null   int64  \n",
      " 6   juv_fel_count            7214 non-null   int64  \n",
      " 7   juv_other_count          7214 non-null   int64  \n",
      " 8   priors_count             7214 non-null   int64  \n",
      " 9   days_b_screening_arrest  7214 non-null   float64\n",
      " 10  c_charge_degree          7214 non-null   object \n",
      " 11  two_year_recid           7214 non-null   int64  \n",
      " 12  decile_score             7214 non-null   int64  \n",
      " 13  score_text               7214 non-null   object \n",
      " 14  stratify_column          7214 non-null   object \n",
      "dtypes: float64(1), int64(7), object(7)\n",
      "memory usage: 845.5+ KB\n",
      "None\n"
     ]
    }
   ],
   "source": [
    "print(df_reduced.info())\n",
    "\n"
   ]
  },
  {
   "cell_type": "markdown",
   "metadata": {},
   "source": [
    "### Take care of categorical data"
   ]
  },
  {
   "cell_type": "code",
   "execution_count": 164,
   "metadata": {},
   "outputs": [
    {
     "name": "stdout",
     "output_type": "stream",
     "text": [
      "sex\n",
      "Male      5819\n",
      "Female    1395\n",
      "Name: count, dtype: int64\n",
      "race\n",
      "African-American    3696\n",
      "Caucasian           2454\n",
      "Hispanic             637\n",
      "Other                377\n",
      "Asian                 32\n",
      "Native American       18\n",
      "Name: count, dtype: int64\n",
      "age_cat\n",
      "25 - 45            4109\n",
      "Greater than 45    1576\n",
      "Less than 25       1529\n",
      "Name: count, dtype: int64\n",
      "c_charge_degree\n",
      "F    4666\n",
      "M    2548\n",
      "Name: count, dtype: int64\n",
      "score_text\n",
      "Low       3897\n",
      "Medium    1914\n",
      "High      1403\n",
      "Name: count, dtype: int64\n"
     ]
    }
   ],
   "source": [
    "print(df_reduced['sex'].value_counts())\n",
    "print(df_reduced['race'].value_counts())\n",
    "print(df_reduced['age_cat'].value_counts())\n",
    "print(df_reduced['c_charge_degree'].value_counts())\n",
    "print(df_reduced['score_text'].value_counts())\n",
    "\n"
   ]
  },
  {
   "cell_type": "code",
   "execution_count": 169,
   "metadata": {},
   "outputs": [],
   "source": [
    "from sklearn.preprocessing import OneHotEncoder, OrdinalEncoder\n",
    "\n",
    "# Copy the original dataset\n",
    "df_encoded = df_reduced.copy()\n",
    "\n",
    "# onehot encoding\n",
    "ohe_features = ['sex', 'race', 'c_charge_degree']\n",
    "\n",
    "ohe = OneHotEncoder()\n",
    "df_ohe = pd.DataFrame(ohe.fit_transform(df_encoded[ohe_features]).toarray(), columns=ohe.get_feature_names_out(ohe_features))\n",
    "df_encoded = pd.concat([df_encoded, df_ohe], axis=1)\n",
    "\n",
    "# ordinal encoding\n",
    "oe_features = ['age_cat', 'score_text']\n",
    "age_cat_order = ['Less than 25', '25 - 45', 'Greater than 45']\n",
    "score_text_order = ['Low', 'Medium', 'High']\n",
    "\n",
    "ordinal_encoder = OrdinalEncoder(categories=[age_cat_order, score_text_order])\n",
    "df_encoded[['age_cat_encoded', 'score_text_encoded']] = ordinal_encoder.fit_transform(\n",
    "    df_encoded[['age_cat', 'score_text']]\n",
    ")\n",
    "\n",
    "\n",
    "encoded_file_path = os.path.join(DATA_FOLDER, 'encoded_dataset.csv')\n",
    "df_encoded.to_csv(encoded_file_path, index=False)"
   ]
  },
  {
   "cell_type": "code",
   "execution_count": 170,
   "metadata": {},
   "outputs": [
    {
     "name": "stdout",
     "output_type": "stream",
     "text": [
      "<class 'pandas.core.frame.DataFrame'>\n",
      "RangeIndex: 7214 entries, 0 to 7213\n",
      "Data columns (total 27 columns):\n",
      " #   Column                   Non-Null Count  Dtype  \n",
      "---  ------                   --------------  -----  \n",
      " 0   compas_screening_date    7214 non-null   object \n",
      " 1   sex                      7214 non-null   object \n",
      " 2   age                      7214 non-null   int64  \n",
      " 3   age_cat                  7214 non-null   object \n",
      " 4   race                     7214 non-null   object \n",
      " 5   juv_misd_count           7214 non-null   int64  \n",
      " 6   juv_fel_count            7214 non-null   int64  \n",
      " 7   juv_other_count          7214 non-null   int64  \n",
      " 8   priors_count             7214 non-null   int64  \n",
      " 9   days_b_screening_arrest  7214 non-null   float64\n",
      " 10  c_charge_degree          7214 non-null   object \n",
      " 11  two_year_recid           7214 non-null   int64  \n",
      " 12  decile_score             7214 non-null   int64  \n",
      " 13  score_text               7214 non-null   object \n",
      " 14  stratify_column          7214 non-null   object \n",
      " 15  sex_Female               7214 non-null   float64\n",
      " 16  sex_Male                 7214 non-null   float64\n",
      " 17  race_African-American    7214 non-null   float64\n",
      " 18  race_Asian               7214 non-null   float64\n",
      " 19  race_Caucasian           7214 non-null   float64\n",
      " 20  race_Hispanic            7214 non-null   float64\n",
      " 21  race_Native American     7214 non-null   float64\n",
      " 22  race_Other               7214 non-null   float64\n",
      " 23  c_charge_degree_F        7214 non-null   float64\n",
      " 24  c_charge_degree_M        7214 non-null   float64\n",
      " 25  age_cat_encoded          7214 non-null   float64\n",
      " 26  score_text_encoded       7214 non-null   float64\n",
      "dtypes: float64(13), int64(7), object(7)\n",
      "memory usage: 1.5+ MB\n"
     ]
    }
   ],
   "source": [
    "df_encoded.info()\n"
   ]
  },
  {
   "cell_type": "code",
   "execution_count": null,
   "metadata": {},
   "outputs": [],
   "source": []
  },
  {
   "cell_type": "markdown",
   "metadata": {},
   "source": [
    "## Test / Train / Dev split"
   ]
  },
  {
   "cell_type": "code",
   "execution_count": 173,
   "metadata": {},
   "outputs": [
    {
     "name": "stdout",
     "output_type": "stream",
     "text": [
      "\n",
      "Train Dataset:\n",
      "Percentages by Race:\n",
      "race\n",
      "African-American    51.24\n",
      "Caucasian           34.01\n",
      "Hispanic             8.82\n",
      "Other                5.23\n",
      "Asian                0.45\n",
      "Native American      0.24\n",
      "Name: count, dtype: float64\n",
      "\n",
      "Test Dataset:\n",
      "Percentages by Race:\n",
      "race\n",
      "African-American    51.18\n",
      "Caucasian           33.98\n",
      "Hispanic             8.88\n",
      "Other                5.27\n",
      "Asian                0.42\n",
      "Native American      0.28\n",
      "Name: count, dtype: float64\n",
      "\n",
      "Dev Dataset:\n",
      "Percentages by Race:\n",
      "race\n",
      "African-American    51.25\n",
      "Caucasian           34.07\n",
      "Hispanic             8.86\n",
      "Other                5.12\n",
      "Asian                0.42\n",
      "Native American      0.28\n",
      "Name: count, dtype: float64\n"
     ]
    }
   ],
   "source": [
    "\n",
    "from sklearn.model_selection import StratifiedShuffleSplit\n",
    "\n",
    "# Define the target column for stratification (race)\n",
    "stratify_column = 'race'\n",
    "\n",
    "# Set up StratifiedShuffleSplit\n",
    "split = StratifiedShuffleSplit(n_splits=1, test_size=0.2, random_state=42)\n",
    "\n",
    "# Create train and test sets\n",
    "for train_idx, test_idx in split.split(df_encoded, df_encoded[stratify_column]):\n",
    "    df_train = df_encoded.iloc[train_idx]\n",
    "    df_test = df_encoded.iloc[test_idx]\n",
    "\n",
    "# Further split test into dev and test (50/50 split)\n",
    "split_dev = StratifiedShuffleSplit(n_splits=1, test_size=0.5, random_state=42)\n",
    "for test_idx, dev_idx in split_dev.split(df_test, df_test[stratify_column]):\n",
    "    df_test_final = df_test.iloc[test_idx]\n",
    "    df_dev = df_test.iloc[dev_idx]\n",
    "\n",
    "# Function to print race counts and percentages\n",
    "def print_race_distribution(df, name):\n",
    "    print(f\"\\n{name} Dataset:\")\n",
    "    race_counts = df['race'].value_counts()\n",
    "    race_percentages = (race_counts / len(df)) * 100\n",
    "    print(f\"Percentages by Race:\\n{race_percentages.round(2)}\")\n",
    "\n",
    "# Print results for train, test, and dev sets\n",
    "print_race_distribution(df_train, \"Train\")\n",
    "print_race_distribution(df_test_final, \"Test\")\n",
    "print_race_distribution(df_dev, \"Dev\")\n",
    "\n",
    "df_train_path = os.path.join(DATA_FOLDER, 'train_dataset.csv')\n",
    "df_test_path = os.path.join(DATA_FOLDER, 'test_dataset.csv')\n",
    "df_dev_path = os.path.join(DATA_FOLDER, 'dev_dataset.csv')\n",
    "\n",
    "df_train.to_csv(df_train_path, index=False)\n",
    "df_test_final.to_csv(df_test_path, index=False) \n",
    "df_dev.to_csv(df_dev_path, index=False)\n",
    "\n"
   ]
  }
 ],
 "metadata": {
  "kernelspec": {
   "display_name": ".venv",
   "language": "python",
   "name": "python3"
  },
  "language_info": {
   "codemirror_mode": {
    "name": "ipython",
    "version": 3
   },
   "file_extension": ".py",
   "mimetype": "text/x-python",
   "name": "python",
   "nbconvert_exporter": "python",
   "pygments_lexer": "ipython3",
   "version": "3.12.5"
  }
 },
 "nbformat": 4,
 "nbformat_minor": 2
}
