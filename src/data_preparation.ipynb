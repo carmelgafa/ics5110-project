{
 "cells": [
  {
   "cell_type": "markdown",
   "metadata": {},
   "source": [
    "# Data preparation\n",
    "\n",
    "In this module, we will start processing the dataset"
   ]
  },
  {
   "cell_type": "code",
   "execution_count": 5,
   "metadata": {},
   "outputs": [],
   "source": [
    "\n",
    "import os\n",
    "import pandas as pd"
   ]
  },
  {
   "cell_type": "code",
   "execution_count": 8,
   "metadata": {},
   "outputs": [],
   "source": [
    "DATA_FOLDER = '../data'\n",
    "\n",
    "df_compas = pd.read_csv(os.path.join(DATA_FOLDER, 'compas-scores-two-years.csv'))"
   ]
  },
  {
   "cell_type": "markdown",
   "metadata": {},
   "source": [
    "## First dataset reduction\n",
    "\n",
    "We reduce the fields that contain administrative information, the fields that are 'replicated' in other fields (for example age and dob, here we only keep one) and fields that to not contain information that can contribute to prediction (for example description fields)"
   ]
  },
  {
   "cell_type": "code",
   "execution_count": 10,
   "metadata": {},
   "outputs": [],
   "source": [
    "columns_to_keep = [ \"sex\", \"age\", \"race\", \"juv_fel_count\", \n",
    "                   \"decile_score\", \"juv_misd_count\", \"juv_other_count\", \n",
    "                   \"priors_count\", \"days_b_screening_arrest\", \"c_jail_in\", \n",
    "                   \"c_jail_out\", \"c_offense_date\", \"c_arrest_date\", \n",
    "                   \"c_days_from_compas\", \"c_charge_degree\", \"is_recid\", \n",
    "                   \"r_charge_degree\", \"r_days_from_arrest\", \"r_jail_in\", \n",
    "                   \"r_jail_out\", \"is_violent_recid\", \"vr_charge_degree\", \n",
    "                   \"v_decile_score\", \"in_custody\", \"out_custody\", \n",
    "                   \"start\", \"end\", \"event\", \"two_year_recid\" ]\n",
    "\n",
    "\n",
    "df_reduced = df_compas[columns_to_keep].copy()\n",
    "\n"
   ]
  },
  {
   "cell_type": "markdown",
   "metadata": {},
   "source": [
    "## Processing\n",
    "\n",
    "We process fields that can be combined into one through difference\n",
    "\n",
    "-  \"c_jail_in\",  \"c_jail_out\" will become c_jail_time\n",
    "-  \"c_offense_date\", \"c_arrest_date\" will become arrest_offense_time\n",
    "- \"r_jail_in\", \"r_jail_out\" will become r_jail_time\n",
    "- \"in_custody\", \"out_custody\" will become custody_time\n",
    "- \"start\", \"end\" will become end_start"
   ]
  },
  {
   "cell_type": "code",
   "execution_count": null,
   "metadata": {},
   "outputs": [],
   "source": [
    "# \"c_jail_in\",  \"c_jail_out\" will become c_jail_time\n",
    "df_reduced['c_jail_in'] = pd.to_datetime(\n",
    "    df_reduced['c_jail_in'], format='%Y-%m-%d %H:%M:%S', errors='coerce')\n",
    "df_reduced['c_jail_out'] = pd.to_datetime(\n",
    "    df_reduced['c_jail_out'], format='%Y-%m-%d %H:%M:%S', errors='coerce')\n",
    "df_reduced['c_jail_time'] = abs((df_reduced['c_jail_out'] - df_reduced['c_jail_in']).dt.days)\n",
    "\n",
    "# \"c_offense_date\", \"c_arrest_date\" will become arrest_offense_time\n",
    "df_reduced['c_offense_date'] = pd.to_datetime(\n",
    "    df_reduced['c_offense_date'], format='%Y-%m-%d %H:%M:%S', errors='coerce')\n",
    "df_reduced['c_arrest_date'] = pd.to_datetime(\n",
    "    df_reduced['c_arrest_date'], format='%Y-%m-%d %H:%M:%S', errors='coerce')\n",
    "df_reduced['arrest_offense_time'] = abs((df_reduced['c_arrest_date'] - df_reduced['c_offense_date']).dt.days)\n",
    "\n",
    "# \"r_jail_in\", \"r_jail_out\" will become r_jail_time\n",
    "df_reduced['r_jail_in'] = pd.to_datetime(\n",
    "    df_reduced['r_jail_in'], format='%Y-%m-%d %H:%M:%S', errors='coerce')\n",
    "df_reduced['r_jail_out'] = pd.to_datetime(\n",
    "    df_reduced['r_jail_out'], format='%Y-%m-%d %H:%M:%S', errors='coerce')\n",
    "df_reduced['r_jail_time'] = abs((df_reduced['r_jail_out'] - df_reduced['r_jail_in']).dt.days)\n",
    "\n",
    "# \"in_custody\", \"out_custody\" will become days_in_custody\n",
    "df_reduced['in_custody'] = pd.to_datetime(\n",
    "    df_reduced['in_custody'], format='%Y-%m-%d %H:%M:%S', errors='coerce')\n",
    "df_reduced['out_custody'] = pd.to_datetime(\n",
    "    df_reduced['out_custody'], format='%Y-%m-%d %H:%M:%S', errors='coerce')\n",
    "df_reduced['days_in_custody'] = abs((df_reduced['out_custody'] - df_reduced['in_custody']).dt.days)\n",
    "\n",
    "# \"start\", \"end\" will become end_start\n",
    "df_reduced['end_start'] = abs((df_reduced['end'] - df_reduced['start']))\n",
    "\n",
    "#remove all the columns that are not needed\n",
    "df_reduced = df_reduced.drop(['c_jail_in', 'c_jail_out', \n",
    "                              'c_offense_date', 'c_arrest_date',\n",
    "                              'r_jail_in', 'r_jail_out',\n",
    "                              'in_custody', 'out_custody',\n",
    "                              'start', 'end'], axis=1)\n"
   ]
  },
  {
   "cell_type": "code",
   "execution_count": null,
   "metadata": {},
   "outputs": [],
   "source": []
  },
  {
   "cell_type": "code",
   "execution_count": null,
   "metadata": {},
   "outputs": [],
   "source": []
  },
  {
   "cell_type": "code",
   "execution_count": null,
   "metadata": {},
   "outputs": [],
   "source": [
    "\n"
   ]
  }
 ],
 "metadata": {
  "kernelspec": {
   "display_name": ".venv",
   "language": "python",
   "name": "python3"
  },
  "language_info": {
   "codemirror_mode": {
    "name": "ipython",
    "version": 3
   },
   "file_extension": ".py",
   "mimetype": "text/x-python",
   "name": "python",
   "nbconvert_exporter": "python",
   "pygments_lexer": "ipython3",
   "version": "3.11.2"
  }
 },
 "nbformat": 4,
 "nbformat_minor": 2
}
